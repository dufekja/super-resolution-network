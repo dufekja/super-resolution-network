{
 "cells": [
  {
   "cell_type": "code",
   "execution_count": null,
   "id": "e90e4c39-41e5-4ed8-acfc-629c5030cfd2",
   "metadata": {},
   "outputs": [],
   "source": [
    "import os\n",
    "import numpy as np\n",
    "import pandas as pd\n",
    "import scipy\n",
    "import torch\n",
    "import torchvision\n",
    "from torch.utils.data import Dataset, DataLoader\n",
    "\n",
    "from PIL import Image"
   ]
  },
  {
   "cell_type": "markdown",
   "id": "98b6795e-af36-4327-a597-4a139e66e9c8",
   "metadata": {},
   "source": [
    "Datasets: [here](https://paperswithcode.com/datasets?q=&v=lst&o=match&mod=images&task=image-super-resolution)\n",
    "\n",
    "\n",
    "## Sources\n",
    "- https://openmmlab.medium.com/awesome-datasets-for-super-resolution-introduction-and-pre-processing-55f8501f8b18\n",
    "- https://paperswithcode.com/dataset/imagenet\n",
    "- https://paperswithcode.com/dataset/div2k\n",
    "- https://github.com/sgrvinod/Deep-Tutorials-for-PyTorch\n",
    "\n",
    "\n",
    "## mindmap\n",
    "- GAN - one NN for superres and second one for img rating in zero-sum game\n",
    "\n",
    "\n"
   ]
  },
  {
   "cell_type": "code",
   "execution_count": null,
   "id": "61e7f76d-c006-41e4-b5c8-bc2382630725",
   "metadata": {},
   "outputs": [],
   "source": [
    "class Div2kDataset(Dataset):\n",
    "    def __init__(self, dir='./data', transform=None):\n",
    "        self.dir = dir\n",
    "        self.transform = transform\n",
    "        self.data = sorted([x for x in os.listdir(self.dir)])\n",
    "    \n",
    "    def __len__(self):\n",
    "        return len(self.data)\n",
    "\n",
    "    def __getitem__(self, idx):\n",
    "        img = Image.open(f'{self.dir}/{self.data[idx]}')\n",
    "        return img\n",
    "        # return torch.tensor(np.array(img), dtype=torch.float)\n",
    "\n",
    "train_dataset_hd = Div2kDataset('DIV2K/HR')\n",
    "train_dataset_lr = Div2kDataset('DIV2K/4xLR')\n",
    "\n",
    "display(train_dataset_lr[0])\n",
    "display(train_dataset_hd[0])"
   ]
  }
 ],
 "metadata": {
  "kernelspec": {
   "display_name": "pytorch-env",
   "language": "python",
   "name": "pytorch-env"
  },
  "language_info": {
   "codemirror_mode": {
    "name": "ipython",
    "version": 3
   },
   "file_extension": ".py",
   "mimetype": "text/x-python",
   "name": "python",
   "nbconvert_exporter": "python",
   "pygments_lexer": "ipython3",
   "version": "3.11.5"
  }
 },
 "nbformat": 4,
 "nbformat_minor": 5
}
