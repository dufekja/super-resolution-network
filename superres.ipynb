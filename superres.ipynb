{
 "cells": [
  {
   "cell_type": "markdown",
   "id": "98b6795e-af36-4327-a597-4a139e66e9c8",
   "metadata": {},
   "source": [
    "\n",
    "## Sources\n",
    "- https://paperswithcode.com/dataset/div2k\n",
    "- https://github.com/sgrvinod/Deep-Tutorials-for-PyTorch\n",
    "- https://jonathan-hui.medium.com/gan-super-resolution-gan-srgan-b471da7270ec\n",
    "- https://github.com/labmlai/annotated_deep_learning_paper_implementations\n",
    "- https://gitlab.fit.cvut.cz/dufekja4/bi-ml2-2023-dufekja4/-/blob/hw02/02/homework_02_B222.ipynb?ref_type=heads\n",
    "\n",
    "- SRESNN paper: https://arxiv.org/pdf/1501.00092.pdf\n",
    "- structural similarity: https://ece.uwaterloo.ca/~z70wang/publications/ssim.pdf\n",
    "- loss functions for SR: https://arxiv.org/pdf/1511.08861.pdf\n",
    "\n",
    "\n",
    "Dataset used for training: https://data.vision.ee.ethz.ch/cvl/DIV2K/\n",
    "\n",
    "Specifically `High Resolution Images`: train data and validation data\n",
    "\n",
    "\n",
    "## Concepts\n",
    "- GAN - one NN for superres and second one for img rating in zero-sum game\n",
    "- deep learning residual connections\n",
    "- sub pixel convolution\n",
    "- pretrain SRmodel and then use GAN with pretrained model\n",
    "\n"
   ]
  },
  {
   "cell_type": "code",
   "execution_count": null,
   "id": "e90e4c39-41e5-4ed8-acfc-629c5030cfd2",
   "metadata": {},
   "outputs": [],
   "source": [
    "import numpy as np\n",
    "import pandas as pd\n",
    "import torch\n",
    "import torchvision\n",
    "import tqdm\n",
    "\n",
    "from PIL import Image\n",
    "from matplotlib import pyplot as plt\n",
    "\n",
    "from torch.utils.data import DataLoader\n",
    "from torch import nn\n",
    "from torch.optim import Adam\n",
    "\n",
    "SEED = 42\n",
    "DEVICE = torch.device(\"cuda\" if torch.cuda.is_available() else \"cpu\")\n",
    "\n",
    "torch.manual_seed(SEED) \n",
    "torch.cuda.manual_seed(SEED)"
   ]
  },
  {
   "cell_type": "code",
   "execution_count": null,
   "id": "61e7f76d-c006-41e4-b5c8-bc2382630725",
   "metadata": {},
   "outputs": [],
   "source": [
    "from dataset import Div2kDataset, ImgTransform\n",
    "\n",
    "train_dataset = Div2kDataset('DIV2K', transform=ImgTransform(crop=128, scale=4))"
   ]
  },
  {
   "cell_type": "code",
   "execution_count": null,
   "id": "7e286d9b-f806-445f-96ac-9f1941f50267",
   "metadata": {},
   "outputs": [],
   "source": [
    "BATCH_SIZE = 64\n",
    "\n",
    "train_dataloader = DataLoader(train_dataset, batch_size=BATCH_SIZE, shuffle=True)"
   ]
  },
  {
   "cell_type": "code",
   "execution_count": null,
   "id": "90641e63-eebf-4ee7-affc-0ccbb1a850e5",
   "metadata": {},
   "outputs": [],
   "source": [
    "from models import SResNet\n",
    "\n",
    "gen = SResNet()\n",
    "\n",
    "it = iter(train_dataloader)\n",
    "lr, hr = next(it)"
   ]
  },
  {
   "cell_type": "code",
   "execution_count": null,
   "id": "8a624a5f-59f9-4d14-bb99-7d8e64eb124c",
   "metadata": {},
   "outputs": [],
   "source": [
    "lr.shape, gen(lr).shape, hr.shape"
   ]
  },
  {
   "cell_type": "code",
   "execution_count": null,
   "id": "58276c30-3cb9-489b-8b45-e35aa11a262c",
   "metadata": {},
   "outputs": [],
   "source": [
    "def train_epoch(loader, model, optimizer):\n",
    "\n",
    "    train_loss = .0\n",
    "    \n",
    "    for batch in loader:\n",
    "        lr, hr = batch\n",
    "        lr, hr = lr.to(DEVICE), hr.to(DEVICE)\n",
    "       \n",
    "        optimizer.zero_grad()\n",
    "\n",
    "        sr = model(lr)\n",
    "        \n",
    "        criterion = nn.MSELoss().to(DEVICE)\n",
    "        loss = criterion(sr, hr)\n",
    "\n",
    "        loss.backward()\n",
    "        optimizer.step()\n",
    "\n",
    "        train_loss += loss.item() * lr.shape[0]\n",
    "        \n",
    "        del lr, hr, sr\n",
    "\n",
    "        break\n",
    "\n",
    "    print(f\"loss: {train_loss / len(loader)}\")\n",
    "\n",
    "opt = Adam(gen.parameters())"
   ]
  },
  {
   "cell_type": "code",
   "execution_count": null,
   "id": "57f55644-c374-4335-8766-9e30cf79f51e",
   "metadata": {},
   "outputs": [],
   "source": [
    "train_epoch(train_dataloader, gen, opt)"
   ]
  }
 ],
 "metadata": {
  "kernelspec": {
   "display_name": ".venv",
   "language": "python",
   "name": "python3"
  },
  "language_info": {
   "codemirror_mode": {
    "name": "ipython",
    "version": 3
   },
   "file_extension": ".py",
   "mimetype": "text/x-python",
   "name": "python",
   "nbconvert_exporter": "python",
   "pygments_lexer": "ipython3",
   "version": "3.10.12"
  }
 },
 "nbformat": 4,
 "nbformat_minor": 5
}
