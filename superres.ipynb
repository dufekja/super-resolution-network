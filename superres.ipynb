{
 "cells": [
  {
   "cell_type": "markdown",
   "metadata": {},
   "source": [
    "# Super Resolution Network\n"
   ]
  },
  {
   "cell_type": "code",
   "execution_count": null,
   "metadata": {},
   "outputs": [],
   "source": [
    "import torch\n",
    "import matplotlib.pyplot as plt\n",
    "\n",
    "import numpy as np\n",
    "from PIL import Image\n",
    "from skimage import metrics\n",
    "\n",
    "# custom modules\n",
    "from utils import convert_img, upscale_img\n",
    "\n",
    "SEED = 42\n",
    "SCALE = 4\n",
    "DEVICE = torch.device(\"cuda\" if torch.cuda.is_available() else \"cpu\")\n",
    "\n",
    "torch.manual_seed(SEED) \n",
    "torch.cuda.manual_seed(SEED)"
   ]
  },
  {
   "cell_type": "markdown",
   "metadata": {},
   "source": [
    "## Obtain dataset"
   ]
  },
  {
   "cell_type": "code",
   "execution_count": null,
   "id": "12ebe3d0",
   "metadata": {},
   "outputs": [],
   "source": [
    "!python download.py"
   ]
  },
  {
   "cell_type": "markdown",
   "metadata": {},
   "source": [
    "## Train model based on configuration"
   ]
  },
  {
   "cell_type": "code",
   "execution_count": null,
   "metadata": {},
   "outputs": [],
   "source": [
    "!python train_sresnet.py"
   ]
  },
  {
   "cell_type": "markdown",
   "metadata": {},
   "source": [
    "## Load trained model"
   ]
  },
  {
   "cell_type": "code",
   "execution_count": null,
   "id": "5e3a8fa4",
   "metadata": {},
   "outputs": [],
   "source": [
    "model = torch.load('2x-sresnet.pt')['model'].to(DEVICE)\n",
    "model.train(False)\n",
    "\n",
    "print('model loaded')"
   ]
  },
  {
   "cell_type": "code",
   "execution_count": null,
   "id": "45a8ac0c",
   "metadata": {},
   "outputs": [],
   "source": [
    "scale = 2\n",
    "\n",
    "# get high res image and downscale it \n",
    "hr = Image.open('DIV2K/0040.png').convert('RGB').crop((0, 0, 1300, 1300))\n",
    "lr = hr.resize((hr.width // scale, hr.height // scale), Image.BICUBIC)\n",
    "sr = upscale_img(lr, model)\n",
    "\n",
    "for img, type in [(lr, 'low res'), (hr, 'high res'), (sr, 'super res')]:\n",
    "    plt.title(type)\n",
    "    plt.imshow(img)\n",
    "    plt.axis('off')\n",
    "    plt.show()"
   ]
  },
  {
   "cell_type": "markdown",
   "metadata": {},
   "source": [
    "## Metrics"
   ]
  },
  {
   "cell_type": "code",
   "execution_count": null,
   "id": "26648fb5",
   "metadata": {},
   "outputs": [],
   "source": [
    "\n",
    "original_img = np.array(convert_img(hr, 'pil', '[0, 1]'))\n",
    "superres_img = np.array(convert_img(sr, 'pil', '[0, 1]'))\n",
    "\n",
    "# value from range (-1, 1)\n",
    "print('SSIM:', metrics.structural_similarity(original_img, superres_img, channel_axis=0, data_range=1)) \n",
    "\n",
    "# higher value means higher similarity (identical img produces zero division)\n",
    "print('PSNR:', metrics.peak_signal_noise_ratio(original_img, superres_img)) "
   ]
  }
 ],
 "metadata": {
  "kernelspec": {
   "display_name": ".venv",
   "language": "python",
   "name": "python3"
  },
  "language_info": {
   "codemirror_mode": {
    "name": "ipython",
    "version": 3
   },
   "file_extension": ".py",
   "mimetype": "text/x-python",
   "name": "python",
   "nbconvert_exporter": "python",
   "pygments_lexer": "ipython3",
   "version": "3.10.12"
  }
 },
 "nbformat": 4,
 "nbformat_minor": 5
}
